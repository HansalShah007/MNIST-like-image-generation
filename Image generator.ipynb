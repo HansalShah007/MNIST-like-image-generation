{
 "cells": [
  {
   "cell_type": "markdown",
   "id": "6c5409b7",
   "metadata": {},
   "source": [
    "# `MNIST like image capturing and processing`"
   ]
  },
  {
   "cell_type": "markdown",
   "id": "40749002",
   "metadata": {},
   "source": [
    "## Importing required libraries"
   ]
  },
  {
   "cell_type": "code",
   "execution_count": null,
   "id": "3ecab4bf",
   "metadata": {},
   "outputs": [],
   "source": [
    "import os\n",
    "import cv2\n",
    "import numpy as np\n",
    "import pandas as pd\n",
    "import seaborn as sns\n",
    "import matplotlib.pyplot as plt\n",
    "%matplotlib inline"
   ]
  },
  {
   "cell_type": "markdown",
   "id": "1b28eca6",
   "metadata": {},
   "source": [
    "## Code for capturing and generating images"
   ]
  },
  {
   "cell_type": "code",
   "execution_count": null,
   "id": "da7d389e",
   "metadata": {},
   "outputs": [],
   "source": [
    "try:\n",
    "    os.mkdir('Captured Images')\n",
    "except:\n",
    "    pass\n",
    "    \n",
    "webcam = cv2.VideoCapture(0)\n",
    "i=1\n",
    "while True:\n",
    "    try:\n",
    "        check,frame = webcam.read()\n",
    "        frame = cv2.flip(frame,1)\n",
    "        frame = cv2.rectangle(frame,(200,100),(500,400),(0,255,0),2) # defining a rectangular boundary for ROI\n",
    "        cv2.imshow('Capturing',frame)\n",
    "        key = cv2.waitKey(1)\n",
    "        \n",
    "        # Character 'c' is assigned to capture an image\n",
    "        if key == ord('c'):\n",
    "            # Extracting the ROI from the frame\n",
    "            ROI = frame[100:400, 200:500].copy()\n",
    "            \n",
    "            # Generating a path for saving the image\n",
    "            img_path = r'Captured Images\\rgb_image_{}.jpg'.format(i) \n",
    "            \n",
    "            # Saving the ROI from the frame as JPG image \n",
    "            cv2.imwrite(filename=img_path,img=ROI)\n",
    "            \n",
    "            # Loading the saved image for coversion\n",
    "            final_img = cv2.imread(img_path,cv2.IMREAD_ANYCOLOR)\n",
    "            \n",
    "            # Converting the image into grayscale\n",
    "            final_img = cv2.cvtColor(final_img,cv2.COLOR_BGR2GRAY)\n",
    "            \n",
    "            # Resizing the image using INTER_LINEAR interpolation (defalut case)\n",
    "            final_img = cv2.resize(final_img,(28,28),interpolation=cv2.INTER_LINEAR)\n",
    "            \n",
    "            # Saving the new processed image \n",
    "            cv2.imwrite(r'Captured Images\\final_grayscale_image_{}.jpg'.format(i),img=final_img)\n",
    "            \n",
    "            print('Image {} generated!'.format(i))\n",
    "            \n",
    "            # Deleting the original RGB image\n",
    "            os.remove(img_path)\n",
    "            cv2.destroyAllWindows()\n",
    "            i+=1\n",
    "            \n",
    "        # Character 'q' is assigned to exit from the loop\n",
    "        elif key == ord('q'):\n",
    "            cv2.destroyAllWindows()\n",
    "            break\n",
    "            \n",
    "    except(KeyboardInterrupt):\n",
    "        print(\"Turning off camera.\")\n",
    "        webcam.release()\n",
    "        print(\"Camera off.\")\n",
    "        print(\"Program ended.\")\n",
    "        cv2.destroyAllWindows()\n",
    "        break\n",
    "\n",
    "webcam.release()"
   ]
  },
  {
   "cell_type": "markdown",
   "id": "64e42452",
   "metadata": {},
   "source": [
    "## Extracting the pixel values of all the grayscale images"
   ]
  },
  {
   "cell_type": "code",
   "execution_count": null,
   "id": "f4e56d69",
   "metadata": {},
   "outputs": [],
   "source": [
    "images = os.listdir('Captured Images')\n",
    "pixel_values = list()\n",
    "\n",
    "for image in images:\n",
    "    path = r'Captured Images/{}'.format(image)\n",
    "    img = cv2.imread(path,cv2.IMREAD_GRAYSCALE)\n",
    "    img = cv2.bitwise_not(img)\n",
    "    temp = list()\n",
    "    temp.append(25)\n",
    "    for r in range(28):\n",
    "        for c in range(28):\n",
    "            temp.append(img[r,c])\n",
    "    pixel_values.append(temp)\n",
    "\n",
    "pixel_values = np.array(pixel_values)"
   ]
  },
  {
   "cell_type": "markdown",
   "id": "ac9c013a",
   "metadata": {},
   "source": [
    "## Generating a CSV file "
   ]
  },
  {
   "cell_type": "code",
   "execution_count": null,
   "id": "3e489f30",
   "metadata": {
    "scrolled": true
   },
   "outputs": [],
   "source": [
    "columns = list()\n",
    "columns.append('label')\n",
    "for i in range(1,785):\n",
    "    columns.append('pixel'+str(i))\n",
    "\n",
    "df = pd.DataFrame(pixel_values,columns=columns)\n",
    "df.to_csv('generated_data.csv',index=False)"
   ]
  },
  {
   "cell_type": "markdown",
   "id": "cbb35baa",
   "metadata": {},
   "source": [
    "## Visulaizing the generated dataset"
   ]
  },
  {
   "cell_type": "code",
   "execution_count": null,
   "id": "58c40151",
   "metadata": {},
   "outputs": [],
   "source": [
    "X = pd.read_csv('Path to generated_data.csv')\n",
    "y = X['label']\n",
    "X.drop(labels='label',axis=1,inplace=True)"
   ]
  },
  {
   "cell_type": "code",
   "execution_count": null,
   "id": "979ec4b0",
   "metadata": {},
   "outputs": [],
   "source": [
    "X.head()"
   ]
  },
  {
   "cell_type": "code",
   "execution_count": null,
   "id": "6ba2948c",
   "metadata": {},
   "outputs": [],
   "source": [
    "X.describe()"
   ]
  },
  {
   "cell_type": "code",
   "execution_count": null,
   "id": "e5bb8d69",
   "metadata": {},
   "outputs": [],
   "source": [
    "X = np.array(X).reshape((X.shape[0],28,28))"
   ]
  },
  {
   "cell_type": "code",
   "execution_count": null,
   "id": "3f333c3e",
   "metadata": {},
   "outputs": [],
   "source": [
    "X=X/255"
   ]
  },
  {
   "cell_type": "code",
   "execution_count": null,
   "id": "10f7d2dc",
   "metadata": {},
   "outputs": [],
   "source": [
    "figure,axes = plt.subplots(2,3,figsize=(10,7))\n",
    "ind = 0\n",
    "for i in range(2):\n",
    "    for j in range(3):\n",
    "        sns.heatmap(X[ind].reshape(28,28),annot=False,cmap='binary',ax=axes[i,j], cbar=False, xticklabels=False, yticklabels=False)\n",
    "        ind+=1\n",
    "plt.show()"
   ]
  }
 ],
 "metadata": {
  "kernelspec": {
   "display_name": "Python 3 (ipykernel)",
   "language": "python",
   "name": "python3"
  },
  "language_info": {
   "codemirror_mode": {
    "name": "ipython",
    "version": 3
   },
   "file_extension": ".py",
   "mimetype": "text/x-python",
   "name": "python",
   "nbconvert_exporter": "python",
   "pygments_lexer": "ipython3",
   "version": "3.9.7"
  }
 },
 "nbformat": 4,
 "nbformat_minor": 5
}
